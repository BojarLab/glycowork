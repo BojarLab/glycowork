{
 "cells": [
  {
   "cell_type": "raw",
   "id": "constitutional-clock",
   "metadata": {},
   "source": [
    "---\n",
    "output-file: ml.html\n",
    "title: ml\n",
    "\n",
    "---\n",
    "\n"
   ]
  },
  {
   "cell_type": "code",
   "execution_count": null,
   "id": "insured-wildlife",
   "metadata": {},
   "outputs": [],
   "source": [
    "#| include: false\n",
    "#| default_exp ml\n",
    "import warnings\n",
    "warnings.filterwarnings(\"ignore\")\n",
    "from nbdev.showdoc import show_doc\n",
    "from IPython.display import HTML\n",
    "#%load_ext autoreload\n",
    "#%autoreload 2"
   ]
  },
  {
   "cell_type": "code",
   "execution_count": null,
   "id": "reflected-assembly",
   "metadata": {},
   "outputs": [],
   "source": [
    "#| export\n",
    "from glycowork.ml.models import *\n",
    "from glycowork.ml.inference import *\n",
    "from glycowork.ml.processing import *\n",
    "from glycowork.ml.model_training import *\n",
    "from glycowork.ml.train_test_split import *\n",
    "from glycowork.glycan_data.loader import df_species, df_glycan"
   ]
  },
  {
   "cell_type": "markdown",
   "id": "experienced-burden",
   "metadata": {},
   "source": [
    "`ml` contains the code base to process glycan for machine learning, construct state-of-the-art machine learning models, train them, and analyze trained models + glycan representations. It currently contains the following modules:\n",
    "\n",
    "- `model_training` contains functions for training machine learning models\n",
    "- `models` describes some examples for machine learning architectures applicable to glycans\n",
    "- `processing` contains helper functions to prepare glycan data for model training\n",
    "- `inference` can be used to analyze trained models, make predictions, or obtain glycan representations\n",
    "- `train_test_split` contains various data split functions to get appropriate training and test sets"
   ]
  },
  {
   "cell_type": "markdown",
   "id": "stuck-finland",
   "metadata": {},
   "source": [
    "## model_training\n",
    ">contains functions for training machine learning models"
   ]
  },
  {
   "cell_type": "code",
   "execution_count": null,
   "id": "indie-confirmation",
   "metadata": {},
   "outputs": [
    {
     "data": {
      "text/markdown": [
       "---\n",
       "\n",
       "### EarlyStopping\n",
       "\n",
       ">      EarlyStopping (patience:int=7, verbose:bool=False)\n",
       "\n",
       "*Early stops the training if validation loss doesn't improve after a given patience*\n",
       "\n",
       "|    | **Type** | **Default** | **Details** |\n",
       "| -- | -------- | ----------- | ----------- |\n",
       "| patience | int | 7 | epochs to wait after last improvement |\n",
       "| verbose | bool | False | whether to print messages |\n",
       "| **Returns** | **None** |  |  |"
      ],
      "text/plain": [
       "---\n",
       "\n",
       "### EarlyStopping\n",
       "\n",
       ">      EarlyStopping (patience:int=7, verbose:bool=False)\n",
       "\n",
       "*Early stops the training if validation loss doesn't improve after a given patience*\n",
       "\n",
       "|    | **Type** | **Default** | **Details** |\n",
       "| -- | -------- | ----------- | ----------- |\n",
       "| patience | int | 7 | epochs to wait after last improvement |\n",
       "| verbose | bool | False | whether to print messages |\n",
       "| **Returns** | **None** |  |  |"
      ]
     },
     "execution_count": null,
     "metadata": {},
     "output_type": "execute_result"
    }
   ],
   "source": [
    "show_doc(EarlyStopping)"
   ]
  },
  {
   "cell_type": "code",
   "execution_count": null,
   "id": "southeast-brighton",
   "metadata": {},
   "outputs": [
    {
     "data": {
      "text/markdown": [
       "---\n",
       "\n",
       "### train_model\n",
       "\n",
       ">      train_model (model:torch.nn.modules.module.Module,\n",
       ">                   dataloaders:Dict[str,torch.utils.data.dataloader.DataLoader]\n",
       ">                   , criterion:torch.nn.modules.module.Module,\n",
       ">                   optimizer:torch.optim.optimizer.Optimizer,\n",
       ">                   scheduler:torch.optim.lr_scheduler._LRScheduler,\n",
       ">                   num_epochs:int=25, patience:int=50,\n",
       ">                   mode:str='classification', mode2:str='multi',\n",
       ">                   return_metrics:bool=False)\n",
       "\n",
       "*trains a deep learning model on predicting glycan properties*\n",
       "\n",
       "|    | **Type** | **Default** | **Details** |\n",
       "| -- | -------- | ----------- | ----------- |\n",
       "| model | Module |  | graph neural network for analyzing glycans |\n",
       "| dataloaders | Dict |  | dict with 'train' and 'val' loaders |\n",
       "| criterion | Module |  | PyTorch loss function |\n",
       "| optimizer | Optimizer |  | PyTorch optimizer, has to be SAM if mode != \"regression\" |\n",
       "| scheduler | _LRScheduler |  | PyTorch learning rate decay |\n",
       "| num_epochs | int | 25 | number of epochs for training |\n",
       "| patience | int | 50 | epochs without improvement until early stop |\n",
       "| mode | str | classification | 'classification', 'multilabel', or 'regression' |\n",
       "| mode2 | str | multi | 'multi' or 'binary' classification |\n",
       "| return_metrics | bool | False | whether to return metrics |\n",
       "| **Returns** | **Union** |  | **best model from training and the training and validation metrics** |"
      ],
      "text/plain": [
       "---\n",
       "\n",
       "### train_model\n",
       "\n",
       ">      train_model (model:torch.nn.modules.module.Module,\n",
       ">                   dataloaders:Dict[str,torch.utils.data.dataloader.DataLoader]\n",
       ">                   , criterion:torch.nn.modules.module.Module,\n",
       ">                   optimizer:torch.optim.optimizer.Optimizer,\n",
       ">                   scheduler:torch.optim.lr_scheduler._LRScheduler,\n",
       ">                   num_epochs:int=25, patience:int=50,\n",
       ">                   mode:str='classification', mode2:str='multi',\n",
       ">                   return_metrics:bool=False)\n",
       "\n",
       "*trains a deep learning model on predicting glycan properties*\n",
       "\n",
       "|    | **Type** | **Default** | **Details** |\n",
       "| -- | -------- | ----------- | ----------- |\n",
       "| model | Module |  | graph neural network for analyzing glycans |\n",
       "| dataloaders | Dict |  | dict with 'train' and 'val' loaders |\n",
       "| criterion | Module |  | PyTorch loss function |\n",
       "| optimizer | Optimizer |  | PyTorch optimizer, has to be SAM if mode != \"regression\" |\n",
       "| scheduler | _LRScheduler |  | PyTorch learning rate decay |\n",
       "| num_epochs | int | 25 | number of epochs for training |\n",
       "| patience | int | 50 | epochs without improvement until early stop |\n",
       "| mode | str | classification | 'classification', 'multilabel', or 'regression' |\n",
       "| mode2 | str | multi | 'multi' or 'binary' classification |\n",
       "| return_metrics | bool | False | whether to return metrics |\n",
       "| **Returns** | **Union** |  | **best model from training and the training and validation metrics** |"
      ]
     },
     "execution_count": null,
     "metadata": {},
     "output_type": "execute_result"
    }
   ],
   "source": [
    "show_doc(train_model)"
   ]
  },
  {
   "cell_type": "code",
   "execution_count": null,
   "id": "generic-taxation",
   "metadata": {},
   "outputs": [
    {
     "data": {
      "text/markdown": [
       "---\n",
       "\n",
       "### training_setup\n",
       "\n",
       ">      training_setup (model:torch.nn.modules.module.Module, lr:float,\n",
       ">                      lr_patience:int=4, factor:float=0.2,\n",
       ">                      weight_decay:float=0.0001, mode:str='multiclass',\n",
       ">                      num_classes:int=2, gsam_alpha:float=0.0)\n",
       "\n",
       "*prepares optimizer, learning rate scheduler, and loss criterion for model training*\n",
       "\n",
       "|    | **Type** | **Default** | **Details** |\n",
       "| -- | -------- | ----------- | ----------- |\n",
       "| model | Module |  | graph neural network for analyzing glycans |\n",
       "| lr | float |  | learning rate |\n",
       "| lr_patience | int | 4 | epochs before reducing learning rate |\n",
       "| factor | float | 0.2 | factor to multiply lr on reduction |\n",
       "| weight_decay | float | 0.0001 | regularization parameter |\n",
       "| mode | str | multiclass | type of prediction task |\n",
       "| num_classes | int | 2 | number of classes for classification |\n",
       "| gsam_alpha | float | 0.0 | if >0, uses GSAM instead of SAM optimizer |\n",
       "| **Returns** | **Tuple** |  | **optimizer, scheduler, criterion** |"
      ],
      "text/plain": [
       "---\n",
       "\n",
       "### training_setup\n",
       "\n",
       ">      training_setup (model:torch.nn.modules.module.Module, lr:float,\n",
       ">                      lr_patience:int=4, factor:float=0.2,\n",
       ">                      weight_decay:float=0.0001, mode:str='multiclass',\n",
       ">                      num_classes:int=2, gsam_alpha:float=0.0)\n",
       "\n",
       "*prepares optimizer, learning rate scheduler, and loss criterion for model training*\n",
       "\n",
       "|    | **Type** | **Default** | **Details** |\n",
       "| -- | -------- | ----------- | ----------- |\n",
       "| model | Module |  | graph neural network for analyzing glycans |\n",
       "| lr | float |  | learning rate |\n",
       "| lr_patience | int | 4 | epochs before reducing learning rate |\n",
       "| factor | float | 0.2 | factor to multiply lr on reduction |\n",
       "| weight_decay | float | 0.0001 | regularization parameter |\n",
       "| mode | str | multiclass | type of prediction task |\n",
       "| num_classes | int | 2 | number of classes for classification |\n",
       "| gsam_alpha | float | 0.0 | if >0, uses GSAM instead of SAM optimizer |\n",
       "| **Returns** | **Tuple** |  | **optimizer, scheduler, criterion** |"
      ]
     },
     "execution_count": null,
     "metadata": {},
     "output_type": "execute_result"
    }
   ],
   "source": [
    "show_doc(training_setup)"
   ]
  },
  {
   "cell_type": "code",
   "execution_count": null,
   "id": "bored-quality",
   "metadata": {},
   "outputs": [
    {
     "data": {
      "text/markdown": [
       "---\n",
       "\n",
       "### train_ml_model\n",
       "\n",
       ">      train_ml_model (X_train:Union[pandas.core.frame.DataFrame,List],\n",
       ">                      X_test:Union[pandas.core.frame.DataFrame,List],\n",
       ">                      y_train:List, y_test:List, mode:str='classification',\n",
       ">                      feature_calc:bool=False, return_features:bool=False,\n",
       ">                      feature_set:List[str]=['known', 'exhaustive'], additional\n",
       ">                      _features_train:Optional[pandas.core.frame.DataFrame]=Non\n",
       ">                      e, additional_features_test:Optional[pandas.core.frame.Da\n",
       ">                      taFrame]=None)\n",
       "\n",
       "*wrapper function to train standard machine learning models on glycans*\n",
       "\n",
       "|    | **Type** | **Default** | **Details** |\n",
       "| -- | -------- | ----------- | ----------- |\n",
       "| X_train | Union |  | training data/glycans |\n",
       "| X_test | Union |  | test data/glycans |\n",
       "| y_train | List |  | training labels |\n",
       "| y_test | List |  | test labels |\n",
       "| mode | str | classification | 'classification' or 'regression' |\n",
       "| feature_calc | bool | False | calculate motifs from glycans |\n",
       "| return_features | bool | False | return calculated features |\n",
       "| feature_set | List | ['known', 'exhaustive'] | feature set for annotations |\n",
       "| additional_features_train | Optional | None | additional training features |\n",
       "| additional_features_test | Optional | None | additional test features |\n",
       "| **Returns** | **Union** |  | **trained model and optionally features** |"
      ],
      "text/plain": [
       "---\n",
       "\n",
       "### train_ml_model\n",
       "\n",
       ">      train_ml_model (X_train:Union[pandas.core.frame.DataFrame,List],\n",
       ">                      X_test:Union[pandas.core.frame.DataFrame,List],\n",
       ">                      y_train:List, y_test:List, mode:str='classification',\n",
       ">                      feature_calc:bool=False, return_features:bool=False,\n",
       ">                      feature_set:List[str]=['known', 'exhaustive'], additional\n",
       ">                      _features_train:Optional[pandas.core.frame.DataFrame]=Non\n",
       ">                      e, additional_features_test:Optional[pandas.core.frame.Da\n",
       ">                      taFrame]=None)\n",
       "\n",
       "*wrapper function to train standard machine learning models on glycans*\n",
       "\n",
       "|    | **Type** | **Default** | **Details** |\n",
       "| -- | -------- | ----------- | ----------- |\n",
       "| X_train | Union |  | training data/glycans |\n",
       "| X_test | Union |  | test data/glycans |\n",
       "| y_train | List |  | training labels |\n",
       "| y_test | List |  | test labels |\n",
       "| mode | str | classification | 'classification' or 'regression' |\n",
       "| feature_calc | bool | False | calculate motifs from glycans |\n",
       "| return_features | bool | False | return calculated features |\n",
       "| feature_set | List | ['known', 'exhaustive'] | feature set for annotations |\n",
       "| additional_features_train | Optional | None | additional training features |\n",
       "| additional_features_test | Optional | None | additional test features |\n",
       "| **Returns** | **Union** |  | **trained model and optionally features** |"
      ]
     },
     "execution_count": null,
     "metadata": {},
     "output_type": "execute_result"
    }
   ],
   "source": [
    "show_doc(train_ml_model)"
   ]
  },
  {
   "cell_type": "code",
   "execution_count": null,
   "id": "separate-knock",
   "metadata": {},
   "outputs": [
    {
     "name": "stdout",
     "output_type": "stream",
     "text": [
      "\n",
      "You provided glycans without features but did not specify feature_calc; we'll step in and calculate features with the default feature_set but feel free to re-run and change.\n",
      "\n",
      "Calculating Glycan Features...\n",
      "\n",
      "Training model...\n",
      "\n",
      "Evaluating model...\n",
      "Accuracy of trained model on separate validation set: 0.8722222222222222\n"
     ]
    }
   ],
   "source": [
    "human = [1 if k == 'Homo_sapiens' else 0 for k in df_species[df_species.Order=='Primates'].Species.values.tolist()]\n",
    "X_train, X_test, y_train, y_test = general_split(df_species[df_species.Order=='Primates'].glycan.values.tolist(), human)\n",
    "model_ft, _, X_test = train_ml_model(X_train, X_test, y_train, y_test, feature_calc = True, feature_set = ['terminal'],\n",
    "                         return_features = True)"
   ]
  },
  {
   "cell_type": "code",
   "execution_count": null,
   "id": "federal-lover",
   "metadata": {},
   "outputs": [
    {
     "data": {
      "text/markdown": [
       "---\n",
       "\n",
       "### analyze_ml_model\n",
       "\n",
       ">      analyze_ml_model (model:xgboost.sklearn.XGBModel)\n",
       "\n",
       "*plots relevant features for model prediction*\n",
       "\n",
       "|    | **Type** | **Details** |\n",
       "| -- | -------- | ----------- |\n",
       "| model | XGBModel | trained ML model from train_ml_model |\n",
       "| **Returns** | **None** |  |"
      ],
      "text/plain": [
       "---\n",
       "\n",
       "### analyze_ml_model\n",
       "\n",
       ">      analyze_ml_model (model:xgboost.sklearn.XGBModel)\n",
       "\n",
       "*plots relevant features for model prediction*\n",
       "\n",
       "|    | **Type** | **Details** |\n",
       "| -- | -------- | ----------- |\n",
       "| model | XGBModel | trained ML model from train_ml_model |\n",
       "| **Returns** | **None** |  |"
      ]
     },
     "execution_count": null,
     "metadata": {},
     "output_type": "execute_result"
    }
   ],
   "source": [
    "show_doc(analyze_ml_model)"
   ]
  },
  {
   "cell_type": "code",
   "execution_count": null,
   "id": "herbal-holmes",
   "metadata": {},
   "outputs": [
    {
     "data": {
      "image/png": "[encoded data removed]",
      "text/plain": [
       "<Figure size 640x480 with 1 Axes>"
      ]
     },
     "metadata": {},
     "output_type": "display_data"
    }
   ],
   "source": [
    "analyze_ml_model(model_ft)"
   ]
  },
  {
   "cell_type": "code",
   "execution_count": null,
   "id": "moved-greene",
   "metadata": {},
   "outputs": [
    {
     "data": {
      "text/markdown": [
       "---\n",
       "\n",
       "### get_mismatch\n",
       "\n",
       ">      get_mismatch (model:xgboost.sklearn.XGBModel,\n",
       ">                    X_test:pandas.core.frame.DataFrame, y_test:List, n:int=10)\n",
       "\n",
       "*analyzes misclassifications of trained machine learning model*\n",
       "\n",
       "|    | **Type** | **Default** | **Details** |\n",
       "| -- | -------- | ----------- | ----------- |\n",
       "| model | XGBModel |  | trained ML model from train_ml_model |\n",
       "| X_test | DataFrame |  | motif dataframe for validation |\n",
       "| y_test | List |  | test labels |\n",
       "| n | int | 10 | number of returned misclassifications |\n",
       "| **Returns** | **List** |  | **misclassifications and predicted probabilities** |"
      ],
      "text/plain": [
       "---\n",
       "\n",
       "### get_mismatch\n",
       "\n",
       ">      get_mismatch (model:xgboost.sklearn.XGBModel,\n",
       ">                    X_test:pandas.core.frame.DataFrame, y_test:List, n:int=10)\n",
       "\n",
       "*analyzes misclassifications of trained machine learning model*\n",
       "\n",
       "|    | **Type** | **Default** | **Details** |\n",
       "| -- | -------- | ----------- | ----------- |\n",
       "| model | XGBModel |  | trained ML model from train_ml_model |\n",
       "| X_test | DataFrame |  | motif dataframe for validation |\n",
       "| y_test | List |  | test labels |\n",
       "| n | int | 10 | number of returned misclassifications |\n",
       "| **Returns** | **List** |  | **misclassifications and predicted probabilities** |"
      ]
     },
     "execution_count": null,
     "metadata": {},
     "output_type": "execute_result"
    }
   ],
   "source": [
    "show_doc(get_mismatch)"
   ]
  },
  {
   "cell_type": "code",
   "execution_count": null,
   "id": "incredible-basket",
   "metadata": {},
   "outputs": [
    {
     "data": {
      "text/plain": [
       "[('Gal(b1-4)GlcNAc(b1-6)[Gal(b1-3)]Gal(b1-4)Glc-ol', 0.8661944270133972),\n",
       " ('Man(a1-2)Man(a1-2)Man(a1-3)[Man(a1-2)Man(a1-3)[Man(a1-2)Man(a1-6)]Man(a1-6)]Man(b1-4)GlcNAc(b1-4)GlcNAc',\n",
       "  0.814888596534729),\n",
       " ('Neu5Ac(a2-8)Neu5Ac(a2-3)Gal(b1-4)Glc1Cer', 0.8540824055671692),\n",
       " ('Gal(b1-4)Glc-ol', 0.7748590111732483),\n",
       " ('Gal(b1-4)GlcNAc(b1-2)[Gal(b1-4)GlcNAc(b1-?)]Man(a1-?)[GlcNAc(b1-2)Man(a1-?)]Man(b1-4)GlcNAc(b1-4)[Fuc(a1-6)]GlcNAc',\n",
       "  0.9565786123275757),\n",
       " ('Gal(b1-3)GlcNAc(b1-3)Gal(b1-4)Glc-ol', 0.812296450138092),\n",
       " ('Fuc(a1-4)GlcNAc(b1-3)Gal(b1-4)[Fuc(a1-3)]Glc-ol', 0.8908309936523438),\n",
       " ('Neu5Ac(a2-6)Gal(b1-?)[Fuc(a1-?)]GlcNAc(b1-?)[Fuc(a1-?)[Gal(b1-?)]GlcNAc(b1-?)]Man(a1-3)[Gal(b1-?)GlcNAc(b1-2)Man(a1-6)]Man(b1-4)GlcNAc(b1-4)[Fuc(a1-6)]GlcNAc',\n",
       "  0.612709641456604),\n",
       " ('Neu5Ac(a2-3)Gal(b1-?)GlcNAc(b1-2)Man(a1-3)[Neu5Ac(a2-3)Gal(b1-?)[Neu5Ac(a2-6)]GlcNAc(b1-2)Man(a1-6)]Man(b1-4)GlcNAc(b1-4)[Fuc(a1-6)]GlcNAc',\n",
       "  0.9313767552375793),\n",
       " ('GalNAc(b1-4)Gal(b1-4)GlcNAc(b1-6)[GalNAc(a1-3)Gal(b1-3)]GalNAc',\n",
       "  0.9005035161972046)]"
      ]
     },
     "execution_count": null,
     "metadata": {},
     "output_type": "execute_result"
    }
   ],
   "source": [
    "get_mismatch(model_ft, X_test, y_test)"
   ]
  },
  {
   "cell_type": "markdown",
   "id": "graduate-stadium",
   "metadata": {},
   "source": [
    "## models\n",
    ">describes some examples for machine learning architectures applicable to glycans. The main portal is prep_models which allows users to setup (trained) models by their string names"
   ]
  },
  {
   "cell_type": "code",
   "execution_count": null,
   "id": "clean-personality",
   "metadata": {},
   "outputs": [
    {
     "data": {
      "text/markdown": [
       "---\n",
       "\n",
       "### SweetNet\n",
       "\n",
       ">      SweetNet (lib_size:int, num_classes:int=1, hidden_dim:int=128)\n",
       "\n",
       "*Base class for all neural network modules.\n",
       "\n",
       "Your models should also subclass this class.\n",
       "\n",
       "Modules can also contain other Modules, allowing them to be nested in\n",
       "a tree structure. You can assign the submodules as regular attributes::\n",
       "\n",
       "    import torch.nn as nn\n",
       "    import torch.nn.functional as F\n",
       "\n",
       "    class Model(nn.Module):\n",
       "        def __init__(self) -> None:\n",
       "            super().__init__()\n",
       "            self.conv1 = nn.Conv2d(1, 20, 5)\n",
       "            self.conv2 = nn.Conv2d(20, 20, 5)\n",
       "\n",
       "        def forward(self, x):\n",
       "            x = F.relu(self.conv1(x))\n",
       "            return F.relu(self.conv2(x))\n",
       "\n",
       "Submodules assigned in this way will be registered, and will also have their\n",
       "parameters converted when you call :meth:`to`, etc.\n",
       "\n",
       ".. note::\n",
       "    As per the example above, an ``__init__()`` call to the parent class\n",
       "    must be made before assignment on the child.\n",
       "\n",
       ":ivar training: Boolean represents whether this module is in training or\n",
       "                evaluation mode.\n",
       ":vartype training: bool*\n",
       "\n",
       "|    | **Type** | **Default** | **Details** |\n",
       "| -- | -------- | ----------- | ----------- |\n",
       "| lib_size | int |  | number of unique tokens for graph nodes |\n",
       "| num_classes | int | 1 | number of output classes (>1 for multilabel) |\n",
       "| hidden_dim | int | 128 | dimension of hidden layers |\n",
       "| **Returns** | **None** |  |  |"
      ],
      "text/plain": [
       "---\n",
       "\n",
       "### SweetNet\n",
       "\n",
       ">      SweetNet (lib_size:int, num_classes:int=1, hidden_dim:int=128)\n",
       "\n",
       "*Base class for all neural network modules.\n",
       "\n",
       "Your models should also subclass this class.\n",
       "\n",
       "Modules can also contain other Modules, allowing them to be nested in\n",
       "a tree structure. You can assign the submodules as regular attributes::\n",
       "\n",
       "    import torch.nn as nn\n",
       "    import torch.nn.functional as F\n",
       "\n",
       "    class Model(nn.Module):\n",
       "        def __init__(self) -> None:\n",
       "            super().__init__()\n",
       "            self.conv1 = nn.Conv2d(1, 20, 5)\n",
       "            self.conv2 = nn.Conv2d(20, 20, 5)\n",
       "\n",
       "        def forward(self, x):\n",
       "            x = F.relu(self.conv1(x))\n",
       "            return F.relu(self.conv2(x))\n",
       "\n",
       "Submodules assigned in this way will be registered, and will also have their\n",
       "parameters converted when you call :meth:`to`, etc.\n",
       "\n",
       ".. note::\n",
       "    As per the example above, an ``__init__()`` call to the parent class\n",
       "    must be made before assignment on the child.\n",
       "\n",
       ":ivar training: Boolean represents whether this module is in training or\n",
       "                evaluation mode.\n",
       ":vartype training: bool*\n",
       "\n",
       "|    | **Type** | **Default** | **Details** |\n",
       "| -- | -------- | ----------- | ----------- |\n",
       "| lib_size | int |  | number of unique tokens for graph nodes |\n",
       "| num_classes | int | 1 | number of output classes (>1 for multilabel) |\n",
       "| hidden_dim | int | 128 | dimension of hidden layers |\n",
       "| **Returns** | **None** |  |  |"
      ]
     },
     "execution_count": null,
     "metadata": {},
     "output_type": "execute_result"
    }
   ],
   "source": [
    "show_doc(SweetNet)"
   ]
  },
  {
   "cell_type": "code",
   "execution_count": null,
   "id": "christian-arnold",
   "metadata": {},
   "outputs": [
    {
     "data": {
      "text/markdown": [
       "---\n",
       "\n",
       "### LectinOracle\n",
       "\n",
       ">      LectinOracle (input_size_glyco:int, hidden_size:int=128,\n",
       ">                    num_classes:int=1, data_min:float=-11.355,\n",
       ">                    data_max:float=23.892, input_size_prot:int=1280)\n",
       "\n",
       "*Base class for all neural network modules.\n",
       "\n",
       "Your models should also subclass this class.\n",
       "\n",
       "Modules can also contain other Modules, allowing them to be nested in\n",
       "a tree structure. You can assign the submodules as regular attributes::\n",
       "\n",
       "    import torch.nn as nn\n",
       "    import torch.nn.functional as F\n",
       "\n",
       "    class Model(nn.Module):\n",
       "        def __init__(self) -> None:\n",
       "            super().__init__()\n",
       "            self.conv1 = nn.Conv2d(1, 20, 5)\n",
       "            self.conv2 = nn.Conv2d(20, 20, 5)\n",
       "\n",
       "        def forward(self, x):\n",
       "            x = F.relu(self.conv1(x))\n",
       "            return F.relu(self.conv2(x))\n",
       "\n",
       "Submodules assigned in this way will be registered, and will also have their\n",
       "parameters converted when you call :meth:`to`, etc.\n",
       "\n",
       ".. note::\n",
       "    As per the example above, an ``__init__()`` call to the parent class\n",
       "    must be made before assignment on the child.\n",
       "\n",
       ":ivar training: Boolean represents whether this module is in training or\n",
       "                evaluation mode.\n",
       ":vartype training: bool*\n",
       "\n",
       "|    | **Type** | **Default** | **Details** |\n",
       "| -- | -------- | ----------- | ----------- |\n",
       "| input_size_glyco | int |  | number of unique tokens for graph nodes |\n",
       "| hidden_size | int | 128 | layer size for graph convolutions |\n",
       "| num_classes | int | 1 | number of output classes (>1 for multilabel) |\n",
       "| data_min | float | -11.355 | minimum observed value in training data |\n",
       "| data_max | float | 23.892 | maximum observed value in training data |\n",
       "| input_size_prot | int | 1280 | dimensionality of protein representations |\n",
       "| **Returns** | **None** |  |  |"
      ],
      "text/plain": [
       "---\n",
       "\n",
       "### LectinOracle\n",
       "\n",
       ">      LectinOracle (input_size_glyco:int, hidden_size:int=128,\n",
       ">                    num_classes:int=1, data_min:float=-11.355,\n",
       ">                    data_max:float=23.892, input_size_prot:int=1280)\n",
       "\n",
       "*Base class for all neural network modules.\n",
       "\n",
       "Your models should also subclass this class.\n",
       "\n",
       "Modules can also contain other Modules, allowing them to be nested in\n",
       "a tree structure. You can assign the submodules as regular attributes::\n",
       "\n",
       "    import torch.nn as nn\n",
       "    import torch.nn.functional as F\n",
       "\n",
       "    class Model(nn.Module):\n",
       "        def __init__(self) -> None:\n",
       "            super().__init__()\n",
       "            self.conv1 = nn.Conv2d(1, 20, 5)\n",
       "            self.conv2 = nn.Conv2d(20, 20, 5)\n",
       "\n",
       "        def forward(self, x):\n",
       "            x = F.relu(self.conv1(x))\n",
       "            return F.relu(self.conv2(x))\n",
       "\n",
       "Submodules assigned in this way will be registered, and will also have their\n",
       "parameters converted when you call :meth:`to`, etc.\n",
       "\n",
       ".. note::\n",
       "    As per the example above, an ``__init__()`` call to the parent class\n",
       "    must be made before assignment on the child.\n",
       "\n",
       ":ivar training: Boolean represents whether this module is in training or\n",
       "                evaluation mode.\n",
       ":vartype training: bool*\n",
       "\n",
       "|    | **Type** | **Default** | **Details** |\n",
       "| -- | -------- | ----------- | ----------- |\n",
       "| input_size_glyco | int |  | number of unique tokens for graph nodes |\n",
       "| hidden_size | int | 128 | layer size for graph convolutions |\n",
       "| num_classes | int | 1 | number of output classes (>1 for multilabel) |\n",
       "| data_min | float | -11.355 | minimum observed value in training data |\n",
       "| data_max | float | 23.892 | maximum observed value in training data |\n",
       "| input_size_prot | int | 1280 | dimensionality of protein representations |\n",
       "| **Returns** | **None** |  |  |"
      ]
     },
     "execution_count": null,
     "metadata": {},
     "output_type": "execute_result"
    }
   ],
   "source": [
    "show_doc(LectinOracle)"
   ]
  },
  {
   "cell_type": "code",
   "execution_count": null,
   "id": "robust-passion",
   "metadata": {},
   "outputs": [
    {
     "data": {
      "text/markdown": [
       "---\n",
       "\n",
       "### LectinOracle_flex\n",
       "\n",
       ">      LectinOracle_flex (input_size_glyco:int, hidden_size:int=128,\n",
       ">                         num_classes:int=1, data_min:float=-11.355,\n",
       ">                         data_max:float=23.892, input_size_prot:int=1000)\n",
       "\n",
       "*Base class for all neural network modules.\n",
       "\n",
       "Your models should also subclass this class.\n",
       "\n",
       "Modules can also contain other Modules, allowing them to be nested in\n",
       "a tree structure. You can assign the submodules as regular attributes::\n",
       "\n",
       "    import torch.nn as nn\n",
       "    import torch.nn.functional as F\n",
       "\n",
       "    class Model(nn.Module):\n",
       "        def __init__(self) -> None:\n",
       "            super().__init__()\n",
       "            self.conv1 = nn.Conv2d(1, 20, 5)\n",
       "            self.conv2 = nn.Conv2d(20, 20, 5)\n",
       "\n",
       "        def forward(self, x):\n",
       "            x = F.relu(self.conv1(x))\n",
       "            return F.relu(self.conv2(x))\n",
       "\n",
       "Submodules assigned in this way will be registered, and will also have their\n",
       "parameters converted when you call :meth:`to`, etc.\n",
       "\n",
       ".. note::\n",
       "    As per the example above, an ``__init__()`` call to the parent class\n",
       "    must be made before assignment on the child.\n",
       "\n",
       ":ivar training: Boolean represents whether this module is in training or\n",
       "                evaluation mode.\n",
       ":vartype training: bool*\n",
       "\n",
       "|    | **Type** | **Default** | **Details** |\n",
       "| -- | -------- | ----------- | ----------- |\n",
       "| input_size_glyco | int |  | number of unique tokens for graph nodes |\n",
       "| hidden_size | int | 128 | layer size for graph convolutions |\n",
       "| num_classes | int | 1 | number of output classes (>1 for multilabel) |\n",
       "| data_min | float | -11.355 | minimum observed value in training data |\n",
       "| data_max | float | 23.892 | maximum observed value in training data |\n",
       "| input_size_prot | int | 1000 | maximum protein sequence length for padding/cutting |\n",
       "| **Returns** | **None** |  |  |"
      ],
      "text/plain": [
       "---\n",
       "\n",
       "### LectinOracle_flex\n",
       "\n",
       ">      LectinOracle_flex (input_size_glyco:int, hidden_size:int=128,\n",
       ">                         num_classes:int=1, data_min:float=-11.355,\n",
       ">                         data_max:float=23.892, input_size_prot:int=1000)\n",
       "\n",
       "*Base class for all neural network modules.\n",
       "\n",
       "Your models should also subclass this class.\n",
       "\n",
       "Modules can also contain other Modules, allowing them to be nested in\n",
       "a tree structure. You can assign the submodules as regular attributes::\n",
       "\n",
       "    import torch.nn as nn\n",
       "    import torch.nn.functional as F\n",
       "\n",
       "    class Model(nn.Module):\n",
       "        def __init__(self) -> None:\n",
       "            super().__init__()\n",
       "            self.conv1 = nn.Conv2d(1, 20, 5)\n",
       "            self.conv2 = nn.Conv2d(20, 20, 5)\n",
       "\n",
       "        def forward(self, x):\n",
       "            x = F.relu(self.conv1(x))\n",
       "            return F.relu(self.conv2(x))\n",
       "\n",
       "Submodules assigned in this way will be registered, and will also have their\n",
       "parameters converted when you call :meth:`to`, etc.\n",
       "\n",
       ".. note::\n",
       "    As per the example above, an ``__init__()`` call to the parent class\n",
       "    must be made before assignment on the child.\n",
       "\n",
       ":ivar training: Boolean represents whether this module is in training or\n",
       "                evaluation mode.\n",
       ":vartype training: bool*\n",
       "\n",
       "|    | **Type** | **Default** | **Details** |\n",
       "| -- | -------- | ----------- | ----------- |\n",
       "| input_size_glyco | int |  | number of unique tokens for graph nodes |\n",
       "| hidden_size | int | 128 | layer size for graph convolutions |\n",
       "| num_classes | int | 1 | number of output classes (>1 for multilabel) |\n",
       "| data_min | float | -11.355 | minimum observed value in training data |\n",
       "| data_max | float | 23.892 | maximum observed value in training data |\n",
       "| input_size_prot | int | 1000 | maximum protein sequence length for padding/cutting |\n",
       "| **Returns** | **None** |  |  |"
      ]
     },
     "execution_count": null,
     "metadata": {},
     "output_type": "execute_result"
    }
   ],
   "source": [
    "show_doc(LectinOracle_flex)"
   ]
  },
  {
   "cell_type": "code",
   "execution_count": null,
   "id": "likely-grove",
   "metadata": {},
   "outputs": [
    {
     "data": {
      "text/markdown": [
       "---\n",
       "\n",
       "### NSequonPred\n",
       "\n",
       ">      NSequonPred ()\n",
       "\n",
       "*Base class for all neural network modules.\n",
       "\n",
       "Your models should also subclass this class.\n",
       "\n",
       "Modules can also contain other Modules, allowing them to be nested in\n",
       "a tree structure. You can assign the submodules as regular attributes::\n",
       "\n",
       "    import torch.nn as nn\n",
       "    import torch.nn.functional as F\n",
       "\n",
       "    class Model(nn.Module):\n",
       "        def __init__(self) -> None:\n",
       "            super().__init__()\n",
       "            self.conv1 = nn.Conv2d(1, 20, 5)\n",
       "            self.conv2 = nn.Conv2d(20, 20, 5)\n",
       "\n",
       "        def forward(self, x):\n",
       "            x = F.relu(self.conv1(x))\n",
       "            return F.relu(self.conv2(x))\n",
       "\n",
       "Submodules assigned in this way will be registered, and will also have their\n",
       "parameters converted when you call :meth:`to`, etc.\n",
       "\n",
       ".. note::\n",
       "    As per the example above, an ``__init__()`` call to the parent class\n",
       "    must be made before assignment on the child.\n",
       "\n",
       ":ivar training: Boolean represents whether this module is in training or\n",
       "                evaluation mode.\n",
       ":vartype training: bool*"
      ],
      "text/plain": [
       "---\n",
       "\n",
       "### NSequonPred\n",
       "\n",
       ">      NSequonPred ()\n",
       "\n",
       "*Base class for all neural network modules.\n",
       "\n",
       "Your models should also subclass this class.\n",
       "\n",
       "Modules can also contain other Modules, allowing them to be nested in\n",
       "a tree structure. You can assign the submodules as regular attributes::\n",
       "\n",
       "    import torch.nn as nn\n",
       "    import torch.nn.functional as F\n",
       "\n",
       "    class Model(nn.Module):\n",
       "        def __init__(self) -> None:\n",
       "            super().__init__()\n",
       "            self.conv1 = nn.Conv2d(1, 20, 5)\n",
       "            self.conv2 = nn.Conv2d(20, 20, 5)\n",
       "\n",
       "        def forward(self, x):\n",
       "            x = F.relu(self.conv1(x))\n",
       "            return F.relu(self.conv2(x))\n",
       "\n",
       "Submodules assigned in this way will be registered, and will also have their\n",
       "parameters converted when you call :meth:`to`, etc.\n",
       "\n",
       ".. note::\n",
       "    As per the example above, an ``__init__()`` call to the parent class\n",
       "    must be made before assignment on the child.\n",
       "\n",
       ":ivar training: Boolean represents whether this module is in training or\n",
       "                evaluation mode.\n",
       ":vartype training: bool*"
      ]
     },
     "execution_count": null,
     "metadata": {},
     "output_type": "execute_result"
    }
   ],
   "source": [
    "show_doc(NSequonPred)"
   ]
  },
  {
   "cell_type": "code",
   "execution_count": null,
   "id": "frank-command",
   "metadata": {},
   "outputs": [
    {
     "data": {
      "text/markdown": [
       "---\n",
       "\n",
       "### init_weights\n",
       "\n",
       ">      init_weights (model:torch.nn.modules.module.Module, mode:str='sparse',\n",
       ">                    sparsity:float=0.1)\n",
       "\n",
       "*initializes linear layers of PyTorch model with a weight initialization*\n",
       "\n",
       "|    | **Type** | **Default** | **Details** |\n",
       "| -- | -------- | ----------- | ----------- |\n",
       "| model | Module |  | neural network for analyzing glycans |\n",
       "| mode | str | sparse | initialization algorithm: 'sparse', 'kaiming', 'xavier' |\n",
       "| sparsity | float | 0.1 | proportion of sparsity after initialization |\n",
       "| **Returns** | **None** |  |  |"
      ],
      "text/plain": [
       "---\n",
       "\n",
       "### init_weights\n",
       "\n",
       ">      init_weights (model:torch.nn.modules.module.Module, mode:str='sparse',\n",
       ">                    sparsity:float=0.1)\n",
       "\n",
       "*initializes linear layers of PyTorch model with a weight initialization*\n",
       "\n",
       "|    | **Type** | **Default** | **Details** |\n",
       "| -- | -------- | ----------- | ----------- |\n",
       "| model | Module |  | neural network for analyzing glycans |\n",
       "| mode | str | sparse | initialization algorithm: 'sparse', 'kaiming', 'xavier' |\n",
       "| sparsity | float | 0.1 | proportion of sparsity after initialization |\n",
       "| **Returns** | **None** |  |  |"
      ]
     },
     "execution_count": null,
     "metadata": {},
     "output_type": "execute_result"
    }
   ],
   "source": [
    "show_doc(init_weights)"
   ]
  },
  {
   "cell_type": "code",
   "execution_count": null,
   "id": "collective-cooler",
   "metadata": {},
   "outputs": [
    {
     "data": {
      "text/markdown": [
       "---\n",
       "\n",
       "### prep_model\n",
       "\n",
       ">      prep_model (model_type:Literal['SweetNet','LectinOracle','LectinOracle_fl\n",
       ">                  ex','NSequonPred'], num_classes:int,\n",
       ">                  libr:Optional[Dict[str,int]]=None, trained:bool=False,\n",
       ">                  hidden_dim:int=128)\n",
       "\n",
       "*wrapper to instantiate model, initialize it, and put it on the GPU*\n",
       "\n",
       "|    | **Type** | **Default** | **Details** |\n",
       "| -- | -------- | ----------- | ----------- |\n",
       "| model_type | Literal |  | type of model to create |\n",
       "| num_classes | int |  | number of unique classes for classification |\n",
       "| libr | Optional | None | dictionary of form glycoletter:index |\n",
       "| trained | bool | False | whether to use pretrained model |\n",
       "| hidden_dim | int | 128 | hidden dimension for the model (SweetNet/LectinOracle only) |\n",
       "| **Returns** | **Module** |  | **initialized PyTorch model** |"
      ],
      "text/plain": [
       "---\n",
       "\n",
       "### prep_model\n",
       "\n",
       ">      prep_model (model_type:Literal['SweetNet','LectinOracle','LectinOracle_fl\n",
       ">                  ex','NSequonPred'], num_classes:int,\n",
       ">                  libr:Optional[Dict[str,int]]=None, trained:bool=False,\n",
       ">                  hidden_dim:int=128)\n",
       "\n",
       "*wrapper to instantiate model, initialize it, and put it on the GPU*\n",
       "\n",
       "|    | **Type** | **Default** | **Details** |\n",
       "| -- | -------- | ----------- | ----------- |\n",
       "| model_type | Literal |  | type of model to create |\n",
       "| num_classes | int |  | number of unique classes for classification |\n",
       "| libr | Optional | None | dictionary of form glycoletter:index |\n",
       "| trained | bool | False | whether to use pretrained model |\n",
       "| hidden_dim | int | 128 | hidden dimension for the model (SweetNet/LectinOracle only) |\n",
       "| **Returns** | **Module** |  | **initialized PyTorch model** |"
      ]
     },
     "execution_count": null,
     "metadata": {},
     "output_type": "execute_result"
    }
   ],
   "source": [
    "show_doc(prep_model)"
   ]
  },
  {
   "cell_type": "markdown",
   "id": "interested-registrar",
   "metadata": {},
   "source": [
    "## processing\n",
    ">contains helper functions to prepare glycan data for model training"
   ]
  },
  {
   "cell_type": "code",
   "execution_count": null,
   "id": "lesbian-closer",
   "metadata": {},
   "outputs": [
    {
     "data": {
      "text/markdown": [
       "---\n",
       "\n",
       "### dataset_to_graphs\n",
       "\n",
       ">      dataset_to_graphs (glycan_list:List[str], labels:List[Union[float,int]],\n",
       ">                         libr:Optional[Dict[str,int]]=None,\n",
       ">                         label_type:torch.dtype=torch.int64)\n",
       "\n",
       "*wrapper function to convert a whole list of glycans into a graph dataset*\n",
       "\n",
       "|    | **Type** | **Default** | **Details** |\n",
       "| -- | -------- | ----------- | ----------- |\n",
       "| glycan_list | List |  | list of IUPAC-condensed glycan sequences |\n",
       "| labels | List |  | list of labels |\n",
       "| libr | Optional | None | dictionary of glycoletter:index |\n",
       "| label_type | dtype | torch.int64 | tensor type for label |\n",
       "| **Returns** | **List** |  | **list of node/edge/label data tuples** |"
      ],
      "text/plain": [
       "---\n",
       "\n",
       "### dataset_to_graphs\n",
       "\n",
       ">      dataset_to_graphs (glycan_list:List[str], labels:List[Union[float,int]],\n",
       ">                         libr:Optional[Dict[str,int]]=None,\n",
       ">                         label_type:torch.dtype=torch.int64)\n",
       "\n",
       "*wrapper function to convert a whole list of glycans into a graph dataset*\n",
       "\n",
       "|    | **Type** | **Default** | **Details** |\n",
       "| -- | -------- | ----------- | ----------- |\n",
       "| glycan_list | List |  | list of IUPAC-condensed glycan sequences |\n",
       "| labels | List |  | list of labels |\n",
       "| libr | Optional | None | dictionary of glycoletter:index |\n",
       "| label_type | dtype | torch.int64 | tensor type for label |\n",
       "| **Returns** | **List** |  | **list of node/edge/label data tuples** |"
      ]
     },
     "execution_count": null,
     "metadata": {},
     "output_type": "execute_result"
    }
   ],
   "source": [
    "show_doc(dataset_to_graphs)"
   ]
  },
  {
   "cell_type": "code",
   "execution_count": null,
   "id": "quiet-butter",
   "metadata": {},
   "outputs": [
    {
     "data": {
      "text/plain": [
       "[Data(edge_index=[2, 8], labels=[5], string_labels=[5], num_nodes=5, y=1),\n",
       " Data(edge_index=[2, 8], labels=[5], string_labels=[5], num_nodes=5, y=0)]"
      ]
     },
     "execution_count": null,
     "metadata": {},
     "output_type": "execute_result"
    }
   ],
   "source": [
    "dataset_to_graphs([\"Neu5Ac(a2-3)Gal(b1-4)Glc\",\n",
    "                  \"Fuc(a1-2)Gal(b1-3)GalNAc\"], [1, 0])"
   ]
  },
  {
   "cell_type": "code",
   "execution_count": null,
   "id": "broadband-tours",
   "metadata": {},
   "outputs": [
    {
     "data": {
      "text/markdown": [
       "---\n",
       "\n",
       "### dataset_to_dataloader\n",
       "\n",
       ">      dataset_to_dataloader (glycan_list:List[str],\n",
       ">                             labels:List[Union[float,int]],\n",
       ">                             libr:Optional[Dict[str,int]]=None,\n",
       ">                             batch_size:int=32, shuffle:bool=True,\n",
       ">                             drop_last:bool=False,\n",
       ">                             extra_feature:Optional[List[float]]=None,\n",
       ">                             label_type:torch.dtype=torch.int64,\n",
       ">                             augment_prob:float=0.0,\n",
       ">                             generalization_prob:float=0.2)\n",
       "\n",
       "*wrapper function to convert glycans and labels to a torch_geometric DataLoader*\n",
       "\n",
       "|    | **Type** | **Default** | **Details** |\n",
       "| -- | -------- | ----------- | ----------- |\n",
       "| glycan_list | List |  | list of IUPAC-condensed glycans |\n",
       "| labels | List |  | list of labels |\n",
       "| libr | Optional | None | dictionary of glycoletter:index |\n",
       "| batch_size | int | 32 | samples per batch |\n",
       "| shuffle | bool | True | shuffle samples in dataloader |\n",
       "| drop_last | bool | False | drop last batch |\n",
       "| extra_feature | Optional | None | additional input features |\n",
       "| label_type | dtype | torch.int64 | tensor type for label |\n",
       "| augment_prob | float | 0.0 | probability of data augmentation |\n",
       "| generalization_prob | float | 0.2 | probability of wildcarding |\n",
       "| **Returns** | **DataLoader** |  | **dataloader for training** |"
      ],
      "text/plain": [
       "---\n",
       "\n",
       "### dataset_to_dataloader\n",
       "\n",
       ">      dataset_to_dataloader (glycan_list:List[str],\n",
       ">                             labels:List[Union[float,int]],\n",
       ">                             libr:Optional[Dict[str,int]]=None,\n",
       ">                             batch_size:int=32, shuffle:bool=True,\n",
       ">                             drop_last:bool=False,\n",
       ">                             extra_feature:Optional[List[float]]=None,\n",
       ">                             label_type:torch.dtype=torch.int64,\n",
       ">                             augment_prob:float=0.0,\n",
       ">                             generalization_prob:float=0.2)\n",
       "\n",
       "*wrapper function to convert glycans and labels to a torch_geometric DataLoader*\n",
       "\n",
       "|    | **Type** | **Default** | **Details** |\n",
       "| -- | -------- | ----------- | ----------- |\n",
       "| glycan_list | List |  | list of IUPAC-condensed glycans |\n",
       "| labels | List |  | list of labels |\n",
       "| libr | Optional | None | dictionary of glycoletter:index |\n",
       "| batch_size | int | 32 | samples per batch |\n",
       "| shuffle | bool | True | shuffle samples in dataloader |\n",
       "| drop_last | bool | False | drop last batch |\n",
       "| extra_feature | Optional | None | additional input features |\n",
       "| label_type | dtype | torch.int64 | tensor type for label |\n",
       "| augment_prob | float | 0.0 | probability of data augmentation |\n",
       "| generalization_prob | float | 0.2 | probability of wildcarding |\n",
       "| **Returns** | **DataLoader** |  | **dataloader for training** |"
      ]
     },
     "execution_count": null,
     "metadata": {},
     "output_type": "execute_result"
    }
   ],
   "source": [
    "show_doc(dataset_to_dataloader)"
   ]
  },
  {
   "cell_type": "code",
   "execution_count": null,
   "id": "filled-glass",
   "metadata": {},
   "outputs": [
    {
     "data": {
      "text/plain": [
       "DataBatch(edge_index=[2, 16], labels=[10], string_labels=[2], num_nodes=10, y=[2], batch=[10], ptr=[3])"
      ]
     },
     "execution_count": null,
     "metadata": {},
     "output_type": "execute_result"
    }
   ],
   "source": [
    "next(iter(dataset_to_dataloader([\"Neu5Ac(a2-3)Gal(b1-4)Glc\",\n",
    "                                 \"Fuc(a1-2)Gal(b1-3)GalNAc\"], [1, 0])))"
   ]
  },
  {
   "cell_type": "code",
   "execution_count": null,
   "id": "heated-georgia",
   "metadata": {},
   "outputs": [
    {
     "data": {
      "text/markdown": [
       "---\n",
       "\n",
       "### split_data_to_train\n",
       "\n",
       ">      split_data_to_train (glycan_list_train:List[str],\n",
       ">                           glycan_list_val:List[str],\n",
       ">                           labels_train:List[Union[float,int]],\n",
       ">                           labels_val:List[Union[float,int]],\n",
       ">                           libr:Optional[Dict[str,int]]=None,\n",
       ">                           batch_size:int=32, drop_last:bool=False,\n",
       ">                           extra_feature_train:Optional[List[float]]=None,\n",
       ">                           extra_feature_val:Optional[List[float]]=None,\n",
       ">                           label_type:torch.dtype=torch.int64,\n",
       ">                           augment_prob:float=0.0,\n",
       ">                           generalization_prob:float=0.2)\n",
       "\n",
       "*wrapper function to convert split training/test data into dictionary of dataloaders*\n",
       "\n",
       "|    | **Type** | **Default** | **Details** |\n",
       "| -- | -------- | ----------- | ----------- |\n",
       "| glycan_list_train | List |  | training glycans |\n",
       "| glycan_list_val | List |  | validation glycans |\n",
       "| labels_train | List |  | training labels |\n",
       "| labels_val | List |  | validation labels |\n",
       "| libr | Optional | None | dictionary of glycoletter:index |\n",
       "| batch_size | int | 32 | samples per batch |\n",
       "| drop_last | bool | False | drop last batch |\n",
       "| extra_feature_train | Optional | None | additional training features |\n",
       "| extra_feature_val | Optional | None | additional validation features |\n",
       "| label_type | dtype | torch.int64 | tensor type for label |\n",
       "| augment_prob | float | 0.0 | probability of data augmentation |\n",
       "| generalization_prob | float | 0.2 | probability of wildcarding |\n",
       "| **Returns** | **Dict** |  | **dictionary of train/val dataloaders** |"
      ],
      "text/plain": [
       "---\n",
       "\n",
       "### split_data_to_train\n",
       "\n",
       ">      split_data_to_train (glycan_list_train:List[str],\n",
       ">                           glycan_list_val:List[str],\n",
       ">                           labels_train:List[Union[float,int]],\n",
       ">                           labels_val:List[Union[float,int]],\n",
       ">                           libr:Optional[Dict[str,int]]=None,\n",
       ">                           batch_size:int=32, drop_last:bool=False,\n",
       ">                           extra_feature_train:Optional[List[float]]=None,\n",
       ">                           extra_feature_val:Optional[List[float]]=None,\n",
       ">                           label_type:torch.dtype=torch.int64,\n",
       ">                           augment_prob:float=0.0,\n",
       ">                           generalization_prob:float=0.2)\n",
       "\n",
       "*wrapper function to convert split training/test data into dictionary of dataloaders*\n",
       "\n",
       "|    | **Type** | **Default** | **Details** |\n",
       "| -- | -------- | ----------- | ----------- |\n",
       "| glycan_list_train | List |  | training glycans |\n",
       "| glycan_list_val | List |  | validation glycans |\n",
       "| labels_train | List |  | training labels |\n",
       "| labels_val | List |  | validation labels |\n",
       "| libr | Optional | None | dictionary of glycoletter:index |\n",
       "| batch_size | int | 32 | samples per batch |\n",
       "| drop_last | bool | False | drop last batch |\n",
       "| extra_feature_train | Optional | None | additional training features |\n",
       "| extra_feature_val | Optional | None | additional validation features |\n",
       "| label_type | dtype | torch.int64 | tensor type for label |\n",
       "| augment_prob | float | 0.0 | probability of data augmentation |\n",
       "| generalization_prob | float | 0.2 | probability of wildcarding |\n",
       "| **Returns** | **Dict** |  | **dictionary of train/val dataloaders** |"
      ]
     },
     "execution_count": null,
     "metadata": {},
     "output_type": "execute_result"
    }
   ],
   "source": [
    "show_doc(split_data_to_train)"
   ]
  },
  {
   "cell_type": "code",
   "execution_count": null,
   "id": "reduced-female",
   "metadata": {},
   "outputs": [
    {
     "data": {
      "text/plain": [
       "{'train': <torch_geometric.loader.dataloader.DataLoader>,\n",
       " 'val': <torch_geometric.loader.dataloader.DataLoader>}"
      ]
     },
     "execution_count": null,
     "metadata": {},
     "output_type": "execute_result"
    }
   ],
   "source": [
    "split_data_to_train([\"Neu5Ac(a2-3)Gal(b1-4)Glc\", \"Fuc(a1-2)Gal(b1-3)GalNAc\"],\n",
    "                    [\"Neu5Ac(a2-6)Gal(b1-4)Glc\", \"Fuc(a1-2)Gal(a1-3)GalNAc\"],\n",
    "                    [1, 0], [0,1])"
   ]
  },
  {
   "cell_type": "markdown",
   "id": "incoming-remainder",
   "metadata": {},
   "source": [
    "## inference\n",
    "<a class=\"anchor\" id=\"inference\"></a>\n",
    ">can be used to analyze trained models, make predictions, or obtain glycan representations"
   ]
  },
  {
   "cell_type": "code",
   "execution_count": null,
   "id": "continued-tokyo",
   "metadata": {},
   "outputs": [
    {
     "data": {
      "text/markdown": [
       "---\n",
       "\n",
       "### glycans_to_emb\n",
       "\n",
       ">      glycans_to_emb (glycans:List[str], model:torch.nn.modules.module.Module,\n",
       ">                      libr:Optional[Dict[str,int]]=None, batch_size:int=32,\n",
       ">                      rep:bool=True, class_list:Optional[List[str]]=None)\n",
       "\n",
       "*Returns a dataframe of learned representations for a list of glycans*\n",
       "\n",
       "|    | **Type** | **Default** | **Details** |\n",
       "| -- | -------- | ----------- | ----------- |\n",
       "| glycans | List |  | list of glycans in IUPAC-condensed |\n",
       "| model | Module |  | trained graph neural network for analyzing glycans |\n",
       "| libr | Optional | None | dictionary of form glycoletter:index |\n",
       "| batch_size | int | 32 | batch size used during training |\n",
       "| rep | bool | True | True returns representations, False returns predicted labels |\n",
       "| class_list | Optional | None | list of unique classes to map predictions |\n",
       "| **Returns** | **Union** |  | **dataframe of representations or list of predictions** |"
      ],
      "text/plain": [
       "---\n",
       "\n",
       "### glycans_to_emb\n",
       "\n",
       ">      glycans_to_emb (glycans:List[str], model:torch.nn.modules.module.Module,\n",
       ">                      libr:Optional[Dict[str,int]]=None, batch_size:int=32,\n",
       ">                      rep:bool=True, class_list:Optional[List[str]]=None)\n",
       "\n",
       "*Returns a dataframe of learned representations for a list of glycans*\n",
       "\n",
       "|    | **Type** | **Default** | **Details** |\n",
       "| -- | -------- | ----------- | ----------- |\n",
       "| glycans | List |  | list of glycans in IUPAC-condensed |\n",
       "| model | Module |  | trained graph neural network for analyzing glycans |\n",
       "| libr | Optional | None | dictionary of form glycoletter:index |\n",
       "| batch_size | int | 32 | batch size used during training |\n",
       "| rep | bool | True | True returns representations, False returns predicted labels |\n",
       "| class_list | Optional | None | list of unique classes to map predictions |\n",
       "| **Returns** | **Union** |  | **dataframe of representations or list of predictions** |"
      ]
     },
     "execution_count": null,
     "metadata": {},
     "output_type": "execute_result"
    }
   ],
   "source": [
    "show_doc(glycans_to_emb)"
   ]
  },
  {
   "cell_type": "code",
   "execution_count": null,
   "id": "collective-strike",
   "metadata": {},
   "outputs": [
    {
     "data": {
      "text/markdown": [
       "---\n",
       "\n",
       "### get_lectin_preds\n",
       "\n",
       ">      get_lectin_preds (prot:str, glycans:List[str],\n",
       ">                        model:torch.nn.modules.module.Module,\n",
       ">                        prot_dic:Optional[Dict[str,List[float]]]=None,\n",
       ">                        background_correction:bool=False, correction_df:Optiona\n",
       ">                        l[pandas.core.frame.DataFrame]=None,\n",
       ">                        batch_size:int=128, libr:Optional[Dict[str,int]]=None,\n",
       ">                        sort:bool=True, flex:bool=False)\n",
       "\n",
       "*Wrapper that uses LectinOracle-type model for predicting binding of protein to glycans*\n",
       "\n",
       "|    | **Type** | **Default** | **Details** |\n",
       "| -- | -------- | ----------- | ----------- |\n",
       "| prot | str |  | protein amino acid sequence |\n",
       "| glycans | List |  | list of glycans in IUPAC-condensed |\n",
       "| model | Module |  | trained LectinOracle-type model |\n",
       "| prot_dic | Optional | None | dict of protein sequence:ESM1b representation |\n",
       "| background_correction | bool | False | whether to correct predictions for background |\n",
       "| correction_df | Optional | None | background prediction for glycans |\n",
       "| batch_size | int | 128 | batch size used during training |\n",
       "| libr | Optional | None | dict of glycoletter:index |\n",
       "| sort | bool | True | whether to sort prediction results descendingly |\n",
       "| flex | bool | False | LectinOracle (False) or LectinOracle_flex (True) |\n",
       "| **Returns** | **DataFrame** |  | **glycan sequences and predicted binding** |"
      ],
      "text/plain": [
       "---\n",
       "\n",
       "### get_lectin_preds\n",
       "\n",
       ">      get_lectin_preds (prot:str, glycans:List[str],\n",
       ">                        model:torch.nn.modules.module.Module,\n",
       ">                        prot_dic:Optional[Dict[str,List[float]]]=None,\n",
       ">                        background_correction:bool=False, correction_df:Optiona\n",
       ">                        l[pandas.core.frame.DataFrame]=None,\n",
       ">                        batch_size:int=128, libr:Optional[Dict[str,int]]=None,\n",
       ">                        sort:bool=True, flex:bool=False)\n",
       "\n",
       "*Wrapper that uses LectinOracle-type model for predicting binding of protein to glycans*\n",
       "\n",
       "|    | **Type** | **Default** | **Details** |\n",
       "| -- | -------- | ----------- | ----------- |\n",
       "| prot | str |  | protein amino acid sequence |\n",
       "| glycans | List |  | list of glycans in IUPAC-condensed |\n",
       "| model | Module |  | trained LectinOracle-type model |\n",
       "| prot_dic | Optional | None | dict of protein sequence:ESM1b representation |\n",
       "| background_correction | bool | False | whether to correct predictions for background |\n",
       "| correction_df | Optional | None | background prediction for glycans |\n",
       "| batch_size | int | 128 | batch size used during training |\n",
       "| libr | Optional | None | dict of glycoletter:index |\n",
       "| sort | bool | True | whether to sort prediction results descendingly |\n",
       "| flex | bool | False | LectinOracle (False) or LectinOracle_flex (True) |\n",
       "| **Returns** | **DataFrame** |  | **glycan sequences and predicted binding** |"
      ]
     },
     "execution_count": null,
     "metadata": {},
     "output_type": "execute_result"
    }
   ],
   "source": [
    "show_doc(get_lectin_preds)"
   ]
  },
  {
   "cell_type": "code",
   "execution_count": null,
   "id": "therapeutic-alias",
   "metadata": {},
   "outputs": [
    {
     "data": {
      "text/markdown": [
       "---\n",
       "\n",
       "### get_Nsequon_preds\n",
       "\n",
       ">      get_Nsequon_preds (prots:List[str], model:torch.nn.modules.module.Module,\n",
       ">                         prot_dic:Dict[str,List[float]])\n",
       "\n",
       "*Predicts whether an N-sequon will be glycosylated*\n",
       "\n",
       "|    | **Type** | **Details** |\n",
       "| -- | -------- | ----------- |\n",
       "| prots | List | 20 AA + N + 20 AA sequences; replace missing with 'z' |\n",
       "| model | Module | trained NSequonPred-type model |\n",
       "| prot_dic | Dict | dict of protein sequence:ESM1b representation |\n",
       "| **Returns** | **DataFrame** | **protein sequences and predicted likelihood** |"
      ],
      "text/plain": [
       "---\n",
       "\n",
       "### get_Nsequon_preds\n",
       "\n",
       ">      get_Nsequon_preds (prots:List[str], model:torch.nn.modules.module.Module,\n",
       ">                         prot_dic:Dict[str,List[float]])\n",
       "\n",
       "*Predicts whether an N-sequon will be glycosylated*\n",
       "\n",
       "|    | **Type** | **Details** |\n",
       "| -- | -------- | ----------- |\n",
       "| prots | List | 20 AA + N + 20 AA sequences; replace missing with 'z' |\n",
       "| model | Module | trained NSequonPred-type model |\n",
       "| prot_dic | Dict | dict of protein sequence:ESM1b representation |\n",
       "| **Returns** | **DataFrame** | **protein sequences and predicted likelihood** |"
      ]
     },
     "execution_count": null,
     "metadata": {},
     "output_type": "execute_result"
    }
   ],
   "source": [
    "show_doc(get_Nsequon_preds)"
   ]
  },
  {
   "cell_type": "code",
   "execution_count": null,
   "id": "cognitive-diploma",
   "metadata": {},
   "outputs": [
    {
     "data": {
      "text/markdown": [
       "---\n",
       "\n",
       "### get_esm1b_representations\n",
       "\n",
       ">      get_esm1b_representations (prots:List[str],\n",
       ">                                 model:torch.nn.modules.module.Module,\n",
       ">                                 alphabet:Any)\n",
       "\n",
       "*Retrieves ESM1b representations of protein for using them as input for LectinOracle*\n",
       "\n",
       "|    | **Type** | **Details** |\n",
       "| -- | -------- | ----------- |\n",
       "| prots | List | list of protein sequences to convert |\n",
       "| model | Module | trained ESM1b model |\n",
       "| alphabet | Any | used for converting sequences |\n",
       "| **Returns** | **Dict** | **dict of protein sequence:ESM1b representation** |"
      ],
      "text/plain": [
       "---\n",
       "\n",
       "### get_esm1b_representations\n",
       "\n",
       ">      get_esm1b_representations (prots:List[str],\n",
       ">                                 model:torch.nn.modules.module.Module,\n",
       ">                                 alphabet:Any)\n",
       "\n",
       "*Retrieves ESM1b representations of protein for using them as input for LectinOracle*\n",
       "\n",
       "|    | **Type** | **Details** |\n",
       "| -- | -------- | ----------- |\n",
       "| prots | List | list of protein sequences to convert |\n",
       "| model | Module | trained ESM1b model |\n",
       "| alphabet | Any | used for converting sequences |\n",
       "| **Returns** | **Dict** | **dict of protein sequence:ESM1b representation** |"
      ]
     },
     "execution_count": null,
     "metadata": {},
     "output_type": "execute_result"
    }
   ],
   "source": [
    "show_doc(get_esm1b_representations)"
   ]
  },
  {
   "cell_type": "markdown",
   "id": "physical-tractor",
   "metadata": {},
   "source": [
    "In order to run `get_esm1b_representations`, you first have to run this snippet:\n",
    "\n",
    "`!pip install fair-esm\n",
    "import esm\n",
    "model, alphabet = esm.pretrained.esm1b_t33_650M_UR50S()`"
   ]
  },
  {
   "cell_type": "markdown",
   "id": "dense-scheduling",
   "metadata": {},
   "source": [
    "## train_test_split\n",
    ">contains various data split functions to get appropriate training and test sets"
   ]
  },
  {
   "cell_type": "code",
   "execution_count": null,
   "id": "checked-effect",
   "metadata": {},
   "outputs": [
    {
     "data": {
      "text/markdown": [
       "---\n",
       "\n",
       "### hierarchy_filter\n",
       "\n",
       ">      hierarchy_filter (df_in:pandas.core.frame.DataFrame, rank:str='Domain',\n",
       ">                        min_seq:int=5, wildcard_seed:bool=False,\n",
       ">                        wildcard_list:Optional[List[str]]=None,\n",
       ">                        wildcard_name:Optional[str]=None, r:float=0.1,\n",
       ">                        col:str='glycan')\n",
       "\n",
       "*stratified data split in train/test at the taxonomic level, removing duplicate glycans and infrequent classes*\n",
       "\n",
       "|    | **Type** | **Default** | **Details** |\n",
       "| -- | -------- | ----------- | ----------- |\n",
       "| df_in | DataFrame |  | dataframe of glycan sequences and taxonomic labels |\n",
       "| rank | str | Domain | taxonomic rank to filter |\n",
       "| min_seq | int | 5 | minimum glycans per class |\n",
       "| wildcard_seed | bool | False | seed wildcard glycoletters |\n",
       "| wildcard_list | Optional | None | glycoletters for wildcard |\n",
       "| wildcard_name | Optional | None | wildcard name in IUPAC |\n",
       "| r | float | 0.1 | replacement rate |\n",
       "| col | str | glycan | column name for glycans |\n",
       "| **Returns** | **Tuple** |  | **train/val splits and mappings** |"
      ],
      "text/plain": [
       "---\n",
       "\n",
       "### hierarchy_filter\n",
       "\n",
       ">      hierarchy_filter (df_in:pandas.core.frame.DataFrame, rank:str='Domain',\n",
       ">                        min_seq:int=5, wildcard_seed:bool=False,\n",
       ">                        wildcard_list:Optional[List[str]]=None,\n",
       ">                        wildcard_name:Optional[str]=None, r:float=0.1,\n",
       ">                        col:str='glycan')\n",
       "\n",
       "*stratified data split in train/test at the taxonomic level, removing duplicate glycans and infrequent classes*\n",
       "\n",
       "|    | **Type** | **Default** | **Details** |\n",
       "| -- | -------- | ----------- | ----------- |\n",
       "| df_in | DataFrame |  | dataframe of glycan sequences and taxonomic labels |\n",
       "| rank | str | Domain | taxonomic rank to filter |\n",
       "| min_seq | int | 5 | minimum glycans per class |\n",
       "| wildcard_seed | bool | False | seed wildcard glycoletters |\n",
       "| wildcard_list | Optional | None | glycoletters for wildcard |\n",
       "| wildcard_name | Optional | None | wildcard name in IUPAC |\n",
       "| r | float | 0.1 | replacement rate |\n",
       "| col | str | glycan | column name for glycans |\n",
       "| **Returns** | **Tuple** |  | **train/val splits and mappings** |"
      ]
     },
     "execution_count": null,
     "metadata": {},
     "output_type": "execute_result"
    }
   ],
   "source": [
    "show_doc(hierarchy_filter)"
   ]
  },
  {
   "cell_type": "code",
   "execution_count": null,
   "id": "latin-gross",
   "metadata": {},
   "outputs": [
    {
     "name": "stdout",
     "output_type": "stream",
     "text": [
      "['Neu5Ac(a2-8)Neu5Ac(a2-6)[Gal(?1-?)GalNAc(a1-3)]GalNAc', 'Man(a1-2)Man(a1-2)Man(b1-3)GlcNAc(a1-6)Man', 'GlcNAc(b1-2)Man(a1-6)[Man(a1-3)][GlcNAc(b1-4)]Man(b1-4)GlcNAc(b1-4)[Fuc(a1-6)]GlcNAc', 'GalNAcOS(b1-4)GlcNAc(b1-2)Man(a1-3)[GalNAcOS(b1-4)GlcNAc(b1-2)Man(a1-6)]Man(b1-4)GlcNAc(b1-4)GlcNAc', 'Neu5Ac(a2-3)Gal(b1-4)GlcNAc(b1-4)[Gal(b1-4)GlcNAc(b1-2)]Man(a1-3)[Neu5Ac(a2-3)Gal(b1-4)GlcNAc(b1-2)Man(a1-6)]Man(b1-4)GlcNAc(b1-4)GlcNAc', 'Neu5Ac(a2-?)Gal(b1-4)[Fuc(a1-3)]GlcNAc(b1-2)Man(a1-?)[Fuc(a1-3)[Gal(b1-4)]GlcNAc(b1-2)Man(a1-?)]Man(b1-4)GlcNAc(b1-4)[Fuc(a1-6)]GlcNAc', '{Gal(b1-4)GlcNAc(b1-?)}{Gal(b1-4)GlcNAc(b1-?)}{Gal(b1-4)GlcNAc(b1-?)}{Neu5Ac(a2-?)}{Neu5Ac(a2-?)}Gal(b1-4)GlcNAc(b1-2)[Gal(b1-4)GlcNAc(b1-4)]Man(a1-3)[Gal(b1-4)GlcNAc(b1-2)[Gal(b1-4)GlcNAc(b1-6)]Man(a1-6)]Man(b1-4)GlcNAc(b1-4)[Fuc(a1-6)]GlcNAc', 'Glc(a1-4)Glc(a1-4)[Glc(a1-6)Glc(a1-6)]Glc(a1-4)Glc(a1-4)Glc(a1-4)Glc(a1-4)Glc(a1-4)Glc(a1-4)Glc(a1-4)Glc', 'Fuc(a1-?)Hex(?1-?)[Hex(?1-?)]GalNAc', 'Neu5Ac(a2-?)GalNAc(b1-4)GlcNAc(b1-2)Man(a1-3)[Gal(b1-4)GlcNAc(b1-2)Man(a1-6)]Man(b1-4)GlcNAc(b1-4)[Fuc(a1-6)]GlcNAc']\n"
     ]
    }
   ],
   "source": [
    "train_x, val_x, train_y, val_y, id_val, class_list, class_converter = hierarchy_filter(df_species,\n",
    "                                                                                       rank = 'Kingdom')\n",
    "print(train_x[:10])"
   ]
  },
  {
   "cell_type": "code",
   "execution_count": null,
   "id": "ordinary-balance",
   "metadata": {},
   "outputs": [
    {
     "data": {
      "text/markdown": [
       "---\n",
       "\n",
       "### general_split\n",
       "\n",
       ">      general_split (glycans:List[str], labels:List[Union[float,int,str]],\n",
       ">                     test_size:float=0.2)\n",
       "\n",
       "*splits glycans and labels into train / test sets*\n",
       "\n",
       "|    | **Type** | **Default** | **Details** |\n",
       "| -- | -------- | ----------- | ----------- |\n",
       "| glycans | List |  | list of IUPAC-condensed glycans |\n",
       "| labels | List |  | list of prediction labels |\n",
       "| test_size | float | 0.2 | size of test set |\n",
       "| **Returns** | **Tuple** |  | **train/test splits** |"
      ],
      "text/plain": [
       "---\n",
       "\n",
       "### general_split\n",
       "\n",
       ">      general_split (glycans:List[str], labels:List[Union[float,int,str]],\n",
       ">                     test_size:float=0.2)\n",
       "\n",
       "*splits glycans and labels into train / test sets*\n",
       "\n",
       "|    | **Type** | **Default** | **Details** |\n",
       "| -- | -------- | ----------- | ----------- |\n",
       "| glycans | List |  | list of IUPAC-condensed glycans |\n",
       "| labels | List |  | list of prediction labels |\n",
       "| test_size | float | 0.2 | size of test set |\n",
       "| **Returns** | **Tuple** |  | **train/test splits** |"
      ]
     },
     "execution_count": null,
     "metadata": {},
     "output_type": "execute_result"
    }
   ],
   "source": [
    "show_doc(general_split)"
   ]
  },
  {
   "cell_type": "code",
   "execution_count": null,
   "id": "statistical-harvest",
   "metadata": {},
   "outputs": [
    {
     "name": "stdout",
     "output_type": "stream",
     "text": [
      "['GlcNAc(b1-2)[GlcNAc(b1-4)]Man(a1-3)[GlcNAc(b1-2)Man(a1-6)][GlcNAc(b1-4)]Man(b1-4)GlcNAc(b1-4)[Fuc(a1-6)]GlcNAc', 'Fuc(a1-2)[GalNAc(a1-3)]Gal(b1-?)GlcNAc6S(b1-6)[Fuc(a1-2)[GalNAc(a1-3)]Gal(b1-3)]GalNAc', 'Neu5Ac(a2-?)GalNAc(b1-4)GlcNAc(b1-2)Man(a1-3)[Gal(b1-4)[Neu5Ac(a2-?)]GlcNAc(b1-2)Man(a1-6)]Man(b1-4)GlcNAc(b1-4)[Fuc(a1-6)]GlcNAc', 'Glc(a1-4)Glc(a1-4)[Glc(a1-4)Glc(a1-4)Glc(a1-6)]Glc(a1-4)Glc', 'Gal(b1-4)GlcNAc(b1-2)Man(a1-3)[Gal(b1-4)GlcNAc(b1-2)Man(a1-6)]Man(b1-4)GlcNAc(b1-4)GlcNAc', 'Fuc(a1-2)Gal(b1-4)Glc-ol', 'Neu5Gc(a2-8)Neu5Ac(a2-6)[Gal(b1-3)]GalNAc', 'Glc(b1-4)Rha(b1-3)[Glc(a1-6)]Gal', 'Glc6Ac(b1-2)Glc1Ole6Ac(b1-4)Glc6Ac', 'Neu5Ac(a2-3)[GalNAc(b1-4)]Gal(b1-4)Glc-ol']\n"
     ]
    }
   ],
   "source": [
    "train_x, val_x, train_y, val_y = general_split(df_species.glycan.values.tolist(),\n",
    "                                              df_species.Species.values.tolist())\n",
    "print(train_x[:10])"
   ]
  },
  {
   "cell_type": "code",
   "execution_count": null,
   "id": "flush-joyce",
   "metadata": {},
   "outputs": [
    {
     "data": {
      "text/markdown": [
       "---\n",
       "\n",
       "### prepare_multilabel\n",
       "\n",
       ">      prepare_multilabel (df:pandas.core.frame.DataFrame, rank:str='Species',\n",
       ">                          glycan_col:str='glycan')\n",
       "\n",
       "*converts a one row per glycan-species/tissue/disease association file to a format of one glycan - all associations*\n",
       "\n",
       "|    | **Type** | **Default** | **Details** |\n",
       "| -- | -------- | ----------- | ----------- |\n",
       "| df | DataFrame |  | dataframe with one glycan-association per row |\n",
       "| rank | str | Species | label column to use |\n",
       "| glycan_col | str | glycan | column with glycan sequences |\n",
       "| **Returns** | **Tuple** |  | **unique glycans and their label vectors** |"
      ],
      "text/plain": [
       "---\n",
       "\n",
       "### prepare_multilabel\n",
       "\n",
       ">      prepare_multilabel (df:pandas.core.frame.DataFrame, rank:str='Species',\n",
       ">                          glycan_col:str='glycan')\n",
       "\n",
       "*converts a one row per glycan-species/tissue/disease association file to a format of one glycan - all associations*\n",
       "\n",
       "|    | **Type** | **Default** | **Details** |\n",
       "| -- | -------- | ----------- | ----------- |\n",
       "| df | DataFrame |  | dataframe with one glycan-association per row |\n",
       "| rank | str | Species | label column to use |\n",
       "| glycan_col | str | glycan | column with glycan sequences |\n",
       "| **Returns** | **Tuple** |  | **unique glycans and their label vectors** |"
      ]
     },
     "execution_count": null,
     "metadata": {},
     "output_type": "execute_result"
    }
   ],
   "source": [
    "show_doc(prepare_multilabel)"
   ]
  },
  {
   "cell_type": "code",
   "execution_count": null,
   "id": "popular-bailey",
   "metadata": {},
   "outputs": [
    {
     "name": "stdout",
     "output_type": "stream",
     "text": [
      "GlcNAcOS(b1-6)Gal(b1-3)GalNAc\n",
      "[0.0, 0.0, 0.0, 0.0, 0.0, 0.0, 0.0, 0.0, 0.0, 0.0, 0.0, 0.0, 0.0, 0.0, 0.0, 0.0, 0.0, 1.0, 0.0, 0.0, 0.0, 0.0, 0.0, 0.0, 0.0, 0.0, 0.0, 0.0, 0.0, 0.0, 0.0, 0.0, 0.0, 0.0]\n"
     ]
    }
   ],
   "source": [
    "glycans, labels = prepare_multilabel(df_species[df_species.Order == 'Carnivora'])\n",
    "print(glycans[50])\n",
    "print(labels[50])"
   ]
  },
  {
   "cell_type": "code",
   "execution_count": null,
   "id": "distant-bulgaria",
   "metadata": {},
   "outputs": [],
   "source": [
    "#| hide\n",
    "import nbdev; nbdev.nbdev_export()"
   ]
  },
  {
   "cell_type": "code",
   "execution_count": null,
   "id": "sought-montreal",
   "metadata": {},
   "outputs": [],
   "source": []
  }
 ],
 "metadata": {
  "kernelspec": {
   "display_name": "python3",
   "language": "python",
   "name": "python3"
  }
 },
 "nbformat": 4,
 "nbformat_minor": 5
}
